{
 "cells": [
  {
   "cell_type": "code",
   "execution_count": 2,
   "metadata": {},
   "outputs": [
    {
     "data": {
      "text/plain": [
       "'Generate random dnesity in 2d plane\\n    with power spectrum P(k) ~ 1/k^3\\n    \\n    1. for kx,ky: get |k|\\n    2. A(k) = |delta(k)| ~ rayleigh(1), phi(k) ~ U(0,2pi)\\n    3. multiply A(k) by sqrt{Pk} \\n    4. FT-1 to get delta(x)\\n'"
      ]
     },
     "execution_count": 2,
     "metadata": {},
     "output_type": "execute_result"
    }
   ],
   "source": [
    "import numpy as np\n",
    "import scipy\n",
    "import matplotlib.pyplot as plt\n",
    "from scipy import fftpack\n",
    "\n",
    "\n",
    "\"\"\"Generate random dnesity in 2d plane\n",
    "    with power spectrum P(k) ~ 1/k^3\n",
    "    \n",
    "    1. for kx,ky: get |k|\n",
    "    2. A(k) = |delta(k)| ~ rayleigh(1), phi(k) ~ U(0,2pi)\n",
    "    3. multiply A(k) by sqrt{Pk} \n",
    "    4. FT-1 to get delta(x)\n",
    "\"\"\""
   ]
  },
  {
   "cell_type": "code",
   "execution_count": null,
   "metadata": {},
   "outputs": [],
   "source": []
  },
  {
   "cell_type": "code",
   "execution_count": 3,
   "metadata": {},
   "outputs": [
    {
     "name": "stderr",
     "output_type": "stream",
     "text": [
      "/anaconda3/lib/python3.6/site-packages/ipykernel_launcher.py:22: RuntimeWarning: divide by zero encountered in power\n"
     ]
    }
   ],
   "source": [
    "nx = 64\n",
    "ny = 64\n",
    "L0 = 1.\n",
    "\n",
    "# generate a rayleigh distributed magnitude and uniform phase\n",
    "\n",
    "# Pk = kk**(-3.)\n",
    "kk = np.arange(-nx//2+1,nx//2+1)\n",
    "\n",
    "# kx and ky: \n",
    "kx1d = np.zeros(nx)\n",
    "kx1d[:nx//2+1] = kk[nx//2-1:]\n",
    "kx1d[nx//2+1:] = kk[:nx//2-1]\n",
    "kx1d *= 2*np.pi/ L0\n",
    "\n",
    "# get  agrid of kx and ky:\n",
    "kxky = np.meshgrid(kx1d,kx1d) #.reshape(1,nx*ny)\n",
    "\n",
    "kk = np.linalg.norm(kxky,axis=0)\n",
    "\n",
    "\n",
    "Pk = kk**(-3.)\n",
    "Pk[0,0] = 0\n",
    "\n"
   ]
  },
  {
   "cell_type": "code",
   "execution_count": 4,
   "metadata": {},
   "outputs": [],
   "source": [
    "\n",
    "# now generate rayleigh-distributed lengths:\n",
    "Amp = np.random.rayleigh(1,(nx,ny))\n",
    "Amp *= Pk\n",
    "\n",
    "phase = np.random.rand(nx*ny).reshape((nx,ny)) * 2*np.pi\n",
    "\n",
    "densktmp = Amp * np.exp(phase*1.0j)\n",
    "\n",
    "\n",
    "# using fig. A.2 from D. Jeong PhD Thesis to fill dens[k]\n",
    "densk = np.zeros((nx,ny),dtype='complex')\n",
    "\n",
    "iNy = nx//2\n",
    "\n",
    "densk[:iNy+1,:] = densktmp[:iNy+1,:]\n",
    "densk[0,iNy+1:] = densktmp[0,iNy-1:0:-1].conj()\n",
    "densk[iNy,iNy+1:] = densktmp[iNy+1,iNy-1:0:-1].conj()\n",
    "\n",
    "\n",
    "densk[iNy+1:,1:iNy] = densktmp[iNy-1:0:-1,-1:iNy:-1].conj()\n",
    "densk[iNy+1:,iNy+1:] = densktmp[iNy-1:0:-1,iNy-1:0:-1].conj()\n",
    "densk[iNy+1:,0] = densktmp[iNy-1:0:-1,0].conj()\n",
    "densk[iNy+1:,iNy] = densktmp[iNy-1:0:-1,iNy].conj()\n"
   ]
  },
  {
   "cell_type": "code",
   "execution_count": 5,
   "metadata": {},
   "outputs": [
    {
     "name": "stdout",
     "output_type": "stream",
     "text": [
      "-0.02755919861916063 0.021199287432834286\n",
      "-1.6077318181939181e-06 1.4425312080209978e-06\n"
     ]
    }
   ],
   "source": [
    "# Get inverse FFT: \n",
    "\n",
    "densr = fftpack.fft2(densk)\n",
    "\n",
    "print (densr.real.min(),densr.real.max())\n",
    "\n",
    "print (densr.imag.min(),densr.imag.max())\n",
    "\n"
   ]
  },
  {
   "cell_type": "code",
   "execution_count": 8,
   "metadata": {},
   "outputs": [
    {
     "name": "stdout",
     "output_type": "stream",
     "text": [
      "0.00019528215212054356 0.00654415621252864\n",
      "(64, 64)\n",
      "0.9724408013808393 1.0211992874328344\n"
     ]
    },
    {
     "data": {
      "text/plain": [
       "Text(0, 0.5, '$y$')"
      ]
     },
     "execution_count": 8,
     "metadata": {},
     "output_type": "execute_result"
    },
    {
     "data": {
      "image/png": "[encoded data removed]",
      "text/plain": [
       "<Figure size 432x288 with 2 Axes>"
      ]
     },
     "metadata": {
      "needs_background": "light"
     },
     "output_type": "display_data"
    }
   ],
   "source": [
    "from matplotlib import colors \n",
    "fig,ax = plt.subplots(1,2)\n",
    "\n",
    "normdensk = np.abs(densk)\n",
    "\n",
    "normdensr = np.abs(densr)\n",
    "\n",
    "# check if normalization is correct:\n",
    "\n",
    "print (normdensk.std(),normdensr.std())\n",
    "\n",
    "kx = kx1d.copy()\n",
    "kx[:iNy+1] = kx1d[:iNy+1]\n",
    "kx[iNy+1:] += 2*np.pi/L0 * nx\n",
    "# print (kk)\n",
    "\n",
    "\n",
    "# print (1+normdensk)\n",
    "print (np.shape(normdensk))\n",
    "\n",
    "iax = ax[0]\n",
    "iax.pcolormesh(kx,kx,normdensk.T,norm=colors.LogNorm(vmin=1e-10,vmax=0.02))\n",
    "# iax.pcolormesh(kk,kk,normdensk.T) \n",
    "iax.set_aspect(1)\n",
    "iax.set_ylabel(\"$k_y$\")\n",
    "iax.set_xlabel(\"$k_x$\")\n",
    "\n",
    "xx = np.arange(nx)*L0\n",
    "print ((1+densr.real.min()),(1+densr.real.max()))\n",
    "\n",
    "iax = ax[1]\n",
    "# iax.pcolormesh(xx,xx,np.reshape(densr,(nx,ny)))\n",
    "iax.set_aspect(1)\n",
    "# iax.pcolormesh(kx,kx,kk) \n",
    "iax.pcolormesh(xx,xx,(1+densr.real.T)) #,norm=colors.LogNorm(vmin=.95,vmax=1.05))\n",
    "iax.set_xlabel(\"$x$\")\n",
    "iax.set_ylabel(\"$y$\")\n"
   ]
  },
  {
   "cell_type": "code",
   "execution_count": null,
   "metadata": {},
   "outputs": [],
   "source": []
  },
  {
   "cell_type": "code",
   "execution_count": null,
   "metadata": {},
   "outputs": [],
   "source": []
  },
  {
   "cell_type": "code",
   "execution_count": null,
   "metadata": {},
   "outputs": [],
   "source": []
  },
  {
   "cell_type": "code",
   "execution_count": null,
   "metadata": {},
   "outputs": [],
   "source": []
  },
  {
   "cell_type": "code",
   "execution_count": null,
   "metadata": {},
   "outputs": [],
   "source": []
  },
  {
   "cell_type": "code",
   "execution_count": null,
   "metadata": {},
   "outputs": [],
   "source": []
  },
  {
   "cell_type": "code",
   "execution_count": null,
   "metadata": {},
   "outputs": [],
   "source": []
  },
  {
   "cell_type": "code",
   "execution_count": 565,
   "metadata": {},
   "outputs": [],
   "source": []
  },
  {
   "cell_type": "code",
   "execution_count": null,
   "metadata": {},
   "outputs": [],
   "source": []
  },
  {
   "cell_type": "code",
   "execution_count": null,
   "metadata": {},
   "outputs": [],
   "source": []
  },
  {
   "cell_type": "code",
   "execution_count": null,
   "metadata": {},
   "outputs": [],
   "source": []
  }
 ],
 "metadata": {
  "kernelspec": {
   "display_name": "Python 3",
   "language": "python",
   "name": "python3"
  },
  "language_info": {
   "codemirror_mode": {
    "name": "ipython",
    "version": 3
   },
   "file_extension": ".py",
   "mimetype": "text/x-python",
   "name": "python",
   "nbconvert_exporter": "python",
   "pygments_lexer": "ipython3",
   "version": "3.6.8"
  }
 },
 "nbformat": 4,
 "nbformat_minor": 2
}
